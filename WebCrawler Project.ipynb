{
 "cells": [
  {
   "cell_type": "code",
   "execution_count": 23,
   "metadata": {},
   "outputs": [],
   "source": [
    "import requests\n",
    "import time\n",
    "import bs4\n",
    "import urllib"
   ]
  },
  {
   "cell_type": "code",
   "execution_count": 24,
   "metadata": {},
   "outputs": [],
   "source": [
    "start_url = \"https://en.wikipedia.org/wiki/Special:Random\"\n",
    "target_url = \"https://en.wikipedia.org/wiki/Philosophy\""
   ]
  },
  {
   "cell_type": "code",
   "execution_count": 25,
   "metadata": {},
   "outputs": [],
   "source": [
    "def find_first_link(url):\n",
    "    response=requests.get(url)\n",
    "    html=response.text\n",
    "    soup=bs4.BeautifulSoup(html,'html.parser')\n",
    "    \n",
    "    div_content=soup.find(id='mw-content-text').find(class_='mw-parser-output')\n",
    "    article_link= None\n",
    "    \n",
    "    for element in div_content.find_all('p',recursive=False):\n",
    "        if element.find('a',recursive=False):\n",
    "            article_link=element.find('a',recursive=False).get('href')\n",
    "            break\n",
    "    if not article_link:\n",
    "        return\n",
    "    \n",
    "    first_link=urllib.parse.urljoin('https://en.wikipedia.org/', article_link)\n",
    "    return first_link"
   ]
  },
  {
   "cell_type": "code",
   "execution_count": 28,
   "metadata": {},
   "outputs": [],
   "source": [
    "def continue_crawl(search_history,target_url,max_steps=30):\n",
    "    if search_history[-1]==target_url:\n",
    "        print(\"The Philosophy article has been found\")\n",
    "        return False\n",
    "    elif len(search_history)>max_steps:\n",
    "        print(\"Maximum search limit reached...Aborting Search!\")\n",
    "        return False\n",
    "    elif search_history[-1] in search_history[:-1]:\n",
    "        print(\"Loop has been detected as previous found article has been found again...Aborting Search!\")\n",
    "        return False\n",
    "    else:\n",
    "        return True\n",
    "    "
   ]
  },
  {
   "cell_type": "code",
   "execution_count": 30,
   "metadata": {},
   "outputs": [
    {
     "name": "stdout",
     "output_type": "stream",
     "text": [
      "https://en.wikipedia.org/wiki/Special:Random\n",
      "https://en.wikipedia.org/wiki/Occitan_language\n",
      "https://en.wikipedia.org/wiki/French_language\n",
      "https://en.wikipedia.org/wiki/Romance_languages\n",
      "https://en.wikipedia.org/wiki/Vulgar_Latin\n",
      "https://en.wikipedia.org/wiki/Standard_language\n",
      "https://en.wikipedia.org/wiki/Variety_(linguistics)\n",
      "https://en.wikipedia.org/wiki/Sociolinguistics\n",
      "https://en.wikipedia.org/wiki/Society\n",
      "https://en.wikipedia.org/wiki/Social_group\n",
      "https://en.wikipedia.org/wiki/Social_science\n",
      "https://en.wikipedia.org/wiki/Branches_of_science\n",
      "https://en.wikipedia.org/wiki/Science\n",
      "https://en.wikipedia.org/wiki/Latin\n",
      "https://en.wikipedia.org/wiki/Classical_language\n",
      "https://en.wikipedia.org/wiki/Language\n",
      "https://en.wikipedia.org/wiki/Grammar\n",
      "https://en.wikipedia.org/wiki/Linguistics\n",
      "Loop has been detected as previous found article has been found again...Aborting Search!\n"
     ]
    }
   ],
   "source": [
    "article_chain=[start_url]\n",
    "\n",
    "while continue_crawl(article_chain,target_url):\n",
    "    print(article_chain[-1])\n",
    "    \n",
    "    first_link=find_first_link(article_chain[-1])\n",
    "    if not first_link:\n",
    "        print(\"No links found in current article...Aborting Search!\")\n",
    "        break\n",
    "    article_chain.append(first_link)\n",
    "    \n",
    "    time.sleep(1)"
   ]
  },
  {
   "cell_type": "code",
   "execution_count": null,
   "metadata": {},
   "outputs": [],
   "source": []
  }
 ],
 "metadata": {
  "kernelspec": {
   "display_name": "Python 3",
   "language": "python",
   "name": "python3"
  },
  "language_info": {
   "codemirror_mode": {
    "name": "ipython",
    "version": 3
   },
   "file_extension": ".py",
   "mimetype": "text/x-python",
   "name": "python",
   "nbconvert_exporter": "python",
   "pygments_lexer": "ipython3",
   "version": "3.7.6"
  }
 },
 "nbformat": 4,
 "nbformat_minor": 4
}
